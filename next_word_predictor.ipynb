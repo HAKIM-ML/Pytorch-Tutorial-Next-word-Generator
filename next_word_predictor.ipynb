{
 "cells": [
  {
   "cell_type": "code",
   "execution_count": 2,
   "metadata": {},
   "outputs": [],
   "source": [
    "import re\n",
    "import demoji\n",
    "import random\n",
    "import inflect\n",
    "import numpy as np\n",
    "import pandas as pd\n",
    "from bs4 import BeautifulSoup\n",
    "import matplotlib.pyplot as plt\n",
    "\n",
    "\n",
    "import torch\n",
    "import torchtext\n",
    "import torch.nn as nn\n",
    "import torch.optim as optim\n",
    "import torch.nn.functional as F\n",
    "from torch.nn.functional import one_hot\n",
    "from torchtext.data.utils import get_tokenizer\n",
    "from torchtext.vocab import build_vocab_from_iterator\n",
    "from torch.utils.data import TensorDataset, DataLoader, random_split"
   ]
  },
  {
   "cell_type": "code",
   "execution_count": 3,
   "metadata": {},
   "outputs": [],
   "source": [
    "# Read the file with UTF-8 encoding\n",
    "fil_path = 'human_chat.txt'\n",
    "with open(fil_path, 'r', encoding='utf-8') as file:\n",
    "    lines = file.readlines()"
   ]
  },
  {
   "cell_type": "code",
   "execution_count": 4,
   "metadata": {},
   "outputs": [
    {
     "data": {
      "text/plain": [
       "['Human 1: Hi!\\n',\n",
       " 'Human 2: What is your favorite holiday?\\n',\n",
       " 'Human 1: one where I get to meet lots of different people.\\n',\n",
       " 'Human 2: What was the most number of people you have ever met during a holiday?\\n',\n",
       " 'Human 1: Hard to keep a count. Maybe 25.\\n']"
      ]
     },
     "execution_count": 4,
     "metadata": {},
     "output_type": "execute_result"
    }
   ],
   "source": [
    "lines[:5]"
   ]
  },
  {
   "cell_type": "code",
   "execution_count": 5,
   "metadata": {},
   "outputs": [
    {
     "name": "stdout",
     "output_type": "stream",
     "text": [
      "1495\n"
     ]
    }
   ],
   "source": [
    "print(len(lines))"
   ]
  },
  {
   "cell_type": "markdown",
   "metadata": {},
   "source": [
    "## Preprocess Text "
   ]
  },
  {
   "cell_type": "code",
   "execution_count": 6,
   "metadata": {},
   "outputs": [],
   "source": [
    "def preprocess_text(text):\n",
    "    # Remove HTML Tags\n",
    "    soup = BeautifulSoup(text, 'html.parser')\n",
    "    text = soup.get_text()\n",
    "    \n",
    "    p = inflect.engine()\n",
    "    demoji.download_codes()\n",
    "    # Remove emojis\n",
    "    text = demoji.replace(text, '')\n",
    "    \n",
    "    # Remove mention of human 1 and human 2\n",
    "    text = re.sub(r'\\b(?:Human 1|Human 2)\\b:?', \" \", text)\n",
    "    \n",
    "    # Replace numbers with words\n",
    "    text = re.sub(r'\\b\\d+\\b', lambda x: p.number_to_words(x.group()), text)\n",
    "    \n",
    "    # Remove special characters, keeping only alphabetic and spaces\n",
    "    text = re.sub(r'[^a-zA-Z\\s]', ' ', text)\n",
    "    \n",
    "    # Replace Specific unicode spaces with standard spaces and trim\n",
    "    text = text.replace(u'\\xa0', u' ').replace('\\u200a', ' ').strip()\n",
    "    return text"
   ]
  },
  {
   "cell_type": "code",
   "execution_count": 7,
   "metadata": {},
   "outputs": [
    {
     "data": {
      "application/vnd.jupyter.widget-view+json": {
       "model_id": "496f458396d04120a341b1b7ee8e187b",
       "version_major": 2,
       "version_minor": 0
      },
      "text/plain": [
       "  0%|          | 0/1495 [00:00<?, ?it/s]"
      ]
     },
     "metadata": {},
     "output_type": "display_data"
    },
    {
     "name": "stderr",
     "output_type": "stream",
     "text": [
      "C:\\Users\\User\\AppData\\Local\\Temp\\ipykernel_19912\\1811098339.py:7: FutureWarning: The demoji.download_codes attribute is deprecated and will be removed from demoji in a future version. It is an unused attribute as emoji codes are now distributed directly with the demoji package.\n",
      "  demoji.download_codes()\n",
      "C:\\Users\\User\\AppData\\Local\\Temp\\ipykernel_19912\\1811098339.py:3: MarkupResemblesLocatorWarning: The input looks more like a filename than markup. You may want to open this file and pass the filehandle into Beautiful Soup.\n",
      "  soup = BeautifulSoup(text, 'html.parser')\n"
     ]
    }
   ],
   "source": [
    "from tqdm.notebook import tqdm\n",
    "preprocessed_text = [preprocess_text(line) for line in tqdm(lines)]"
   ]
  },
  {
   "cell_type": "code",
   "execution_count": 8,
   "metadata": {},
   "outputs": [
    {
     "data": {
      "text/plain": [
       "['Hi',\n",
       " 'What is your favorite holiday',\n",
       " 'one where I get to meet lots of different people',\n",
       " 'What was the most number of people you have ever met during a holiday',\n",
       " 'Hard to keep a count  Maybe twenty five']"
      ]
     },
     "execution_count": 8,
     "metadata": {},
     "output_type": "execute_result"
    }
   ],
   "source": [
    "preprocessed_text[:5]"
   ]
  },
  {
   "cell_type": "markdown",
   "metadata": {},
   "source": [
    "## Torchtext\n",
    "\n",
    "Torch text is a library within the pytorch ecosystem desigend to facilitate the preprocssing of textual data \n",
    "\n",
    "**Get_tokenizer**\n",
    "The **Get_tokenizer** function is one of the core utilites provided by torchtext for tokenizing text data.\n",
    "**get_tokenizer** retrive a tokenizer function based on the mothod specified. This tokenizer can then be  used to convert strings of text into lists of tokens\n",
    "\n",
    "**Parameter** \n",
    "\n",
    "Tokenizer: the argument specified the type of tokenizer to use. you can specified built-in tokenizers such as *basics_english* 'spacy',*moses* or even  provide a custome tokenizer function\n",
    "\n",
    "**Langauge**: Some tokenizers, like those based on the moses or spacy libraries, might require you to specify the language of the text, which influences how the text is tokenized (e.g.. handing language specific puntuation and spliting rules)"
   ]
  },
  {
   "cell_type": "code",
   "execution_count": 9,
   "metadata": {},
   "outputs": [],
   "source": [
    "tokenizer = get_tokenizer('basic_english')\n",
    "tokenized_conv = [tokenizer(conv) for conv in preprocessed_text]"
   ]
  },
  {
   "cell_type": "code",
   "execution_count": 10,
   "metadata": {},
   "outputs": [
    {
     "data": {
      "text/plain": [
       "['what',\n",
       " 'was',\n",
       " 'the',\n",
       " 'most',\n",
       " 'number',\n",
       " 'of',\n",
       " 'people',\n",
       " 'you',\n",
       " 'have',\n",
       " 'ever',\n",
       " 'met',\n",
       " 'during',\n",
       " 'a',\n",
       " 'holiday']"
      ]
     },
     "execution_count": 10,
     "metadata": {},
     "output_type": "execute_result"
    }
   ],
   "source": [
    "tokenized_conv[3]"
   ]
  },
  {
   "cell_type": "markdown",
   "metadata": {},
   "source": [
    "## Build Vocab from Iterator\n",
    "\n",
    "**build_vocab_from_iterator** : function in the torchtext.vocab module is used to create a vocabulary from an iterable of tokinzed data. This vocabularu is essential for converting textual data into numeraical form.\n",
    "\n",
    "### Paramerters:\n",
    "\n",
    "This is the main data input to the function. it should be an iterator(like a generator or a list) that yeilds sequences of tokens. Eac sequence represents a document or an example in your dataset\n",
    "\n",
    "### Min Freq (int, optional):\n",
    "\n",
    "This parameter specifies the minimum frequency a token must  have to be included in the vocabulary. Tokens that appears fewer min_freq times are exclude from the covabulary. This is useful removing rare words might be  typos or irrelevant to most analysis\n",
    "\n",
    "### specials (list of str, optional):\n",
    " This is a list of special tokens that you want to add to the vocabulary. Common special tokens include:\n",
    "'<pad>': A padding token used to equalize the lengths of sequences.\n",
    "'<oov>' (or '<unk>' for \"unknown\"): A token used to represent out-of-vocabulary words during inference, or when a word appears that is not in the training vocabulary.\n",
    "### special_first (bool, optional):\n",
    " Determines the ordering of special tokens in the vocabulary. If True, special tokens are added at the beginning of the vocabulary. This can be helpful for certain models where token indices are significant (e.g., models using embedding layers might have specific handling for lower indices)."
   ]
  },
  {
   "cell_type": "code",
   "execution_count": 11,
   "metadata": {},
   "outputs": [],
   "source": [
    "features_vocab = torchtext.vocab.build_vocab_from_iterator(\n",
    "    tokenized_conv,\n",
    "    min_freq=1,\n",
    "    specials=['<pad>', '<oov>'],\n",
    "    special_first=True\n",
    ")\n",
    "target_vocab = torchtext.vocab.build_vocab_from_iterator(\n",
    "    tokenized_conv,\n",
    "    min_freq=1\n",
    ")"
   ]
  },
  {
   "cell_type": "code",
   "execution_count": 12,
   "metadata": {},
   "outputs": [],
   "source": [
    "features_vocab_total_words = len(features_vocab)\n",
    "target_vocab_total_words = len(target_vocab)"
   ]
  },
  {
   "cell_type": "code",
   "execution_count": 13,
   "metadata": {},
   "outputs": [
    {
     "name": "stdout",
     "output_type": "stream",
     "text": [
      "Feature vocab Word:  2749\n",
      "Target Target Word:  2747\n"
     ]
    }
   ],
   "source": [
    "print('Feature vocab Word: ', features_vocab_total_words)\n",
    "print('Target Target Word: ', target_vocab_total_words)"
   ]
  },
  {
   "cell_type": "markdown",
   "metadata": {},
   "source": [
    "## Making N-Grams from Conversion"
   ]
  },
  {
   "cell_type": "code",
   "execution_count": 14,
   "metadata": {},
   "outputs": [],
   "source": [
    "def make_ngrams(tokenized_text):\n",
    "    list_ngrams = []\n",
    "    for i in range(1, len(tokenized_text)):\n",
    "        ngram_sequence = tokenized_text[:i+1]\n",
    "        list_ngrams.append(ngram_sequence)\n",
    "        \n",
    "    return list_ngrams"
   ]
  },
  {
   "cell_type": "code",
   "execution_count": 15,
   "metadata": {},
   "outputs": [
    {
     "data": {
      "application/vnd.jupyter.widget-view+json": {
       "model_id": "34e2082a98594d10bdbf14ced1fa1483",
       "version_major": 2,
       "version_minor": 0
      },
      "text/plain": [
       "  0%|          | 0/1495 [00:00<?, ?it/s]"
      ]
     },
     "metadata": {},
     "output_type": "display_data"
    }
   ],
   "source": [
    "ngram_list = []\n",
    "for tokenized_con in tqdm(tokenized_conv):\n",
    "    ngram_list.extend(make_ngrams(tokenized_con))"
   ]
  },
  {
   "cell_type": "code",
   "execution_count": 16,
   "metadata": {},
   "outputs": [
    {
     "data": {
      "text/plain": [
       "[['what', 'is'],\n",
       " ['what', 'is', 'your'],\n",
       " ['what', 'is', 'your', 'favorite'],\n",
       " ['what', 'is', 'your', 'favorite', 'holiday'],\n",
       " ['one', 'where']]"
      ]
     },
     "execution_count": 16,
     "metadata": {},
     "output_type": "execute_result"
    }
   ],
   "source": [
    "ngram_list[:5]"
   ]
  },
  {
   "cell_type": "markdown",
   "metadata": {},
   "source": [
    "**get_itos**: stands for 'index-to-string'. The method returns a list where the indices in the list correspoding to the numerical indeices used in in the model, and the values at those indices are actual stirng representation(tokens)"
   ]
  },
  {
   "cell_type": "code",
   "execution_count": 17,
   "metadata": {},
   "outputs": [],
   "source": [
    "def text_to_numerical_sequence(tokenized_text):\n",
    "    tokens_list = []\n",
    "    if tokenized_text[-1] in target_vocab.get_itos():\n",
    "        for token in tokenized_text[:-1]:\n",
    "            num_token = features_vocab[token] if token in features_vocab.get_itos() else features_vocab['<oov>']\n",
    "            tokens_list.append(num_token)\n",
    "        num_token = target_vocab[tokenized_text[-1]]\n",
    "        tokens_list.append(num_token)\n",
    "        return tokens_list\n",
    "    return None"
   ]
  },
  {
   "cell_type": "code",
   "execution_count": 18,
   "metadata": {},
   "outputs": [
    {
     "data": {
      "application/vnd.jupyter.widget-view+json": {
       "model_id": "45e31042893440f3b5ae097325b80e43",
       "version_major": 2,
       "version_minor": 0
      },
      "text/plain": [
       "  0%|          | 0/18562 [00:00<?, ?it/s]"
      ]
     },
     "metadata": {},
     "output_type": "display_data"
    }
   ],
   "source": [
    "input_sequences = [text_to_numerical_sequence(sequence) for sequence in tqdm(ngram_list) if text_to_numerical_sequence(sequence)]"
   ]
  },
  {
   "cell_type": "code",
   "execution_count": 19,
   "metadata": {},
   "outputs": [
    {
     "name": "stdout",
     "output_type": "stream",
     "text": [
      "Total input Sequences:  {18562}\n",
      "[[56, 90, 2, 73, 2], [56, 90, 2, 73, 4, 228]]\n"
     ]
    }
   ],
   "source": [
    "print(f\"Total input Sequences: \" ,{len(input_sequences)})\n",
    "print(input_sequences[7:9])"
   ]
  },
  {
   "cell_type": "code",
   "execution_count": 20,
   "metadata": {},
   "outputs": [
    {
     "data": {
      "text/plain": [
       "(1, 11)"
      ]
     },
     "execution_count": 20,
     "metadata": {},
     "output_type": "execute_result"
    }
   ],
   "source": [
    "x = [sequence[:-1] for sequence in input_sequences]\n",
    "y = [sequence[-1] for sequence in input_sequences]\n",
    "len(x[0]) , y[0]"
   ]
  },
  {
   "cell_type": "code",
   "execution_count": 21,
   "metadata": {},
   "outputs": [
    {
     "name": "stdout",
     "output_type": "stream",
     "text": [
      "([12, 13, 29, 120], 312)\n"
     ]
    }
   ],
   "source": [
    "print((x[3], y[3]))"
   ]
  },
  {
   "cell_type": "code",
   "execution_count": 22,
   "metadata": {},
   "outputs": [
    {
     "data": {
      "text/plain": [
       "153"
      ]
     },
     "execution_count": 22,
     "metadata": {},
     "output_type": "execute_result"
    }
   ],
   "source": [
    "longest_squences_feature = max(len(sequence)  for sequence in x)\n",
    "longest_squences_feature"
   ]
  },
  {
   "cell_type": "markdown",
   "metadata": {},
   "source": [
    "`F.pad` function is a utility function which is part of torch.nn.functional module,used for padding tensors.\n",
    "\n",
    "## Parameters \n",
    "\n",
    "**input(torch.tensor)**:\n",
    "The tensor to be padded\n",
    "\n",
    "**pad(tuple of ints)**:\n",
    "\n",
    "The number of values padded to the edges of each dimension. The tuple should contain pairs where each pair is the values added to the left and right of the dimension, respectively.\n",
    "\n",
    "**value(scaler, optinal)**:\n",
    "\n",
    "The constant value used for constant padding. If the model is 'constant' but no value is specified. it defualt \n",
    "to 0."
   ]
  },
  {
   "cell_type": "code",
   "execution_count": 23,
   "metadata": {},
   "outputs": [
    {
     "data": {
      "text/plain": [
       "(tensor([ 0,  0,  0,  0,  0,  0,  0,  0,  0,  0,  0,  0,  0,  0,  0,  0,  0,  0,\n",
       "          0,  0,  0,  0,  0,  0,  0,  0,  0,  0,  0,  0,  0,  0,  0,  0,  0,  0,\n",
       "          0,  0,  0,  0,  0,  0,  0,  0,  0,  0,  0,  0,  0,  0,  0,  0,  0,  0,\n",
       "          0,  0,  0,  0,  0,  0,  0,  0,  0,  0,  0,  0,  0,  0,  0,  0,  0,  0,\n",
       "          0,  0,  0,  0,  0,  0,  0,  0,  0,  0,  0,  0,  0,  0,  0,  0,  0,  0,\n",
       "          0,  0,  0,  0,  0,  0,  0,  0,  0,  0,  0,  0,  0,  0,  0,  0,  0,  0,\n",
       "          0,  0,  0,  0,  0,  0,  0,  0,  0,  0,  0,  0,  0,  0,  0,  0,  0,  0,\n",
       "          0,  0,  0,  0,  0,  0,  0,  0,  0,  0,  0,  0,  0,  0,  0,  0,  0,  0,\n",
       "          0,  0,  0,  0,  0,  0,  0, 12, 13]),\n",
       " [12, 13, 29],\n",
       " 153)"
      ]
     },
     "execution_count": 23,
     "metadata": {},
     "output_type": "execute_result"
    }
   ],
   "source": [
    "padded_x = [F.pad(torch.tensor(sequence), (longest_squences_feature - len (sequence), 0), value= 0) for  sequence in x]\n",
    "padded_x[1], x[2], len(padded_x[1])"
   ]
  },
  {
   "cell_type": "code",
   "execution_count": 24,
   "metadata": {},
   "outputs": [
    {
     "data": {
      "text/plain": [
       "(torch.Tensor, torch.Tensor)"
      ]
     },
     "execution_count": 24,
     "metadata": {},
     "output_type": "execute_result"
    }
   ],
   "source": [
    "padded_x = torch.stack(padded_x)\n",
    "y = torch.tensor(y)\n",
    "type(y), type(padded_x)"
   ]
  },
  {
   "cell_type": "code",
   "execution_count": 25,
   "metadata": {},
   "outputs": [],
   "source": [
    "y_one_hot = one_hot(y, num_classes=target_vocab_total_words)"
   ]
  },
  {
   "cell_type": "markdown",
   "metadata": {},
   "source": [
    "## Tensor Dataset\n",
    "\n",
    "**Tensor Dataset** : is a subclass of Dataset that is specifically designed to handle scenarios where all data are already in the form of  tensor. it warps tensor, allowing you to access slices of these tensors as individual samples.\n",
    "\n",
    "It's particularly useful when yout entire datset is small enough to fit into memory, and you have pre-preprocess all your input and target data into tensor. it simplifies the data loading during training when using a Dataloader since all data is already in tensor form  and does not require further transformation or loading steps during the batch genration."
   ]
  },
  {
   "cell_type": "code",
   "execution_count": 26,
   "metadata": {},
   "outputs": [],
   "source": [
    "data = TensorDataset(padded_x, y_one_hot)"
   ]
  },
  {
   "cell_type": "code",
   "execution_count": 27,
   "metadata": {},
   "outputs": [
    {
     "data": {
      "text/plain": [
       "<torch.utils.data.dataset.TensorDataset at 0x2ec512f8f50>"
      ]
     },
     "execution_count": 27,
     "metadata": {},
     "output_type": "execute_result"
    }
   ],
   "source": [
    "data"
   ]
  },
  {
   "cell_type": "code",
   "execution_count": 29,
   "metadata": {},
   "outputs": [],
   "source": [
    "trian_size = int(0.8 * len(data))\n",
    "test_size = len(data) - trian_size\n",
    "\n",
    "batch_size = 32"
   ]
  },
  {
   "cell_type": "code",
   "execution_count": 31,
   "metadata": {},
   "outputs": [],
   "source": [
    "train_data, test_data = random_split(data, [trian_size, test_size])"
   ]
  },
  {
   "cell_type": "code",
   "execution_count": 38,
   "metadata": {},
   "outputs": [],
   "source": [
    "train_loader = DataLoader(train_data, batch_size= batch_size, shuffle=True)\n",
    "val_loader = DataLoader(test_data, batch_size=batch_size, shuffle=True)\n"
   ]
  },
  {
   "cell_type": "code",
   "execution_count": 33,
   "metadata": {},
   "outputs": [],
   "source": [
    "class My_BiLSTM(nn.Module):\n",
    "    def __init__(self, features_vocab_total_words, target_vocab_total_words, embedding_dim, hidden_dim):\n",
    "        super(My_BiLSTM, self).__init__()\n",
    "        self.embedding = nn.Embedding(features_vocab_total_words, embedding_dim)\n",
    "        self.lstm = nn.LSTM(embedding_dim, hidden_dim, batch_first=True, bidirectional=True)\n",
    "        self.dropout = nn.Dropout(0.5)\n",
    "        self.fc = nn.Linear(hidden_dim * 2, target_vocab_total_words)\n",
    "\n",
    "    def forward(self, x):\n",
    "        x = x.to(self.embedding.weight.device)\n",
    "        embedded = self.embedding(x)\n",
    "        lstm_out, _ = self.lstm(embedded)\n",
    "        lstm_out = self.dropout(lstm_out)\n",
    "        # Since the LSTM is bidirectional, we concatenate the last hidden state of the forward direction\n",
    "        # and the first hidden state of the backward direction before passing it to the fully connected layer\n",
    "        # For batch_first=True, the last timestep of the forward direction is lstm_out[:, -1, :hidden_dim]\n",
    "        # and the first timestep of the backward direction is lstm_out[:, 0, hidden_dim:]\n",
    "        output = self.fc(torch.cat((lstm_out[:, -1, :hidden_dim], lstm_out[:, 0, hidden_dim:]), dim=1))\n",
    "        return output"
   ]
  },
  {
   "cell_type": "code",
   "execution_count": 58,
   "metadata": {},
   "outputs": [],
   "source": [
    "features_vocab_total_words = 2749\n",
    "target_vocab_total_words = 2747\n",
    "embedding_dim = 128\n",
    "hidden_dim = 200\n",
    "epochs = 100"
   ]
  },
  {
   "cell_type": "code",
   "execution_count": 48,
   "metadata": {},
   "outputs": [],
   "source": [
    "model = My_BiLSTM(features_vocab_total_words, target_vocab_total_words, embedding_dim=embedding_dim, hidden_dim=hidden_dim)"
   ]
  },
  {
   "cell_type": "code",
   "execution_count": 49,
   "metadata": {},
   "outputs": [
    {
     "name": "stdout",
     "output_type": "stream",
     "text": [
      "My_BiLSTM(\n",
      "  (embedding): Embedding(2749, 128)\n",
      "  (lstm): LSTM(128, 200, batch_first=True, bidirectional=True)\n",
      "  (dropout): Dropout(p=0.5, inplace=False)\n",
      "  (fc): Linear(in_features=400, out_features=2747, bias=True)\n",
      ")\n"
     ]
    }
   ],
   "source": [
    "print(model)"
   ]
  },
  {
   "cell_type": "code",
   "execution_count": 50,
   "metadata": {},
   "outputs": [],
   "source": [
    "criterion = nn.CrossEntropyLoss()\n",
    "optimizer = optim.Adam(model.parameters(), lr=0.0009)"
   ]
  },
  {
   "cell_type": "code",
   "execution_count": 51,
   "metadata": {},
   "outputs": [
    {
     "data": {
      "text/plain": [
       "device(type='cuda')"
      ]
     },
     "execution_count": 51,
     "metadata": {},
     "output_type": "execute_result"
    }
   ],
   "source": [
    "device = torch.device(\"cuda\" if torch.cuda.is_available() else \"cpu\")\n",
    "device"
   ]
  },
  {
   "cell_type": "code",
   "execution_count": 52,
   "metadata": {},
   "outputs": [
    {
     "data": {
      "text/plain": [
       "My_BiLSTM(\n",
       "  (embedding): Embedding(2749, 128)\n",
       "  (lstm): LSTM(128, 200, batch_first=True, bidirectional=True)\n",
       "  (dropout): Dropout(p=0.5, inplace=False)\n",
       "  (fc): Linear(in_features=400, out_features=2747, bias=True)\n",
       ")"
      ]
     },
     "execution_count": 52,
     "metadata": {},
     "output_type": "execute_result"
    }
   ],
   "source": [
    "model.to(device)"
   ]
  },
  {
   "cell_type": "code",
   "execution_count": 53,
   "metadata": {},
   "outputs": [],
   "source": [
    "def calculate_topk_accuracy(model, data_loader, k=3):\n",
    "    model.eval()\n",
    "    correct_predictions = 0\n",
    "    total_predictions = 0\n",
    "\n",
    "    with torch.no_grad():\n",
    "        for batch_x, batch_y in data_loader:\n",
    "            batch_x, batch_y = batch_x.to(device), batch_y.to(device)\n",
    "\n",
    "            # Forward pass\n",
    "            output = model(batch_x)\n",
    "\n",
    "            # Get top-k predictions\n",
    "            _, predicted_indices = output.topk(k, dim=1)\n",
    "\n",
    "            # Check if the correct label is in the top-k predictions\n",
    "            correct_predictions += torch.any(predicted_indices == torch.argmax(batch_y, dim=1, keepdim=True), dim=1).sum().item()\n",
    "            total_predictions += batch_y.size(0)\n",
    "\n",
    "    accuracy = correct_predictions / total_predictions\n",
    "    return accuracy"
   ]
  },
  {
   "cell_type": "code",
   "execution_count": 60,
   "metadata": {},
   "outputs": [
    {
     "name": "stderr",
     "output_type": "stream",
     "text": [
      "Epochs:   1%|          | 1/100 [00:12<20:11, 12.24s/it]"
     ]
    },
    {
     "name": "stdout",
     "output_type": "stream",
     "text": [
      "Epoch 1/100 | Avg Loss: 0.6262 | Train K-Accuracy: 96.36%\n"
     ]
    },
    {
     "name": "stderr",
     "output_type": "stream",
     "text": [
      "Epochs:   2%|▏         | 2/100 [00:23<18:54, 11.58s/it]"
     ]
    },
    {
     "name": "stdout",
     "output_type": "stream",
     "text": [
      "Epoch 2/100 | Avg Loss: 0.6132 | Train K-Accuracy: 96.35%\n"
     ]
    },
    {
     "name": "stderr",
     "output_type": "stream",
     "text": [
      "Epochs:   3%|▎         | 3/100 [00:34<18:05, 11.19s/it]"
     ]
    },
    {
     "name": "stdout",
     "output_type": "stream",
     "text": [
      "Epoch 3/100 | Avg Loss: 0.6004 | Train K-Accuracy: 96.34%\n"
     ]
    },
    {
     "name": "stderr",
     "output_type": "stream",
     "text": [
      "Epochs:   4%|▍         | 4/100 [00:44<17:38, 11.03s/it]"
     ]
    },
    {
     "name": "stdout",
     "output_type": "stream",
     "text": [
      "Epoch 4/100 | Avg Loss: 0.6160 | Train K-Accuracy: 96.30%\n"
     ]
    },
    {
     "name": "stderr",
     "output_type": "stream",
     "text": [
      "Epochs:   5%|▌         | 5/100 [00:55<17:23, 10.99s/it]"
     ]
    },
    {
     "name": "stdout",
     "output_type": "stream",
     "text": [
      "Epoch 5/100 | Avg Loss: 0.6073 | Train K-Accuracy: 96.33%\n"
     ]
    },
    {
     "name": "stderr",
     "output_type": "stream",
     "text": [
      "Epochs:   6%|▌         | 6/100 [01:06<17:04, 10.90s/it]"
     ]
    },
    {
     "name": "stdout",
     "output_type": "stream",
     "text": [
      "Epoch 6/100 | Avg Loss: 0.5949 | Train K-Accuracy: 96.38%\n"
     ]
    },
    {
     "name": "stderr",
     "output_type": "stream",
     "text": [
      "Epochs:   7%|▋         | 7/100 [01:17<16:48, 10.84s/it]"
     ]
    },
    {
     "name": "stdout",
     "output_type": "stream",
     "text": [
      "Epoch 7/100 | Avg Loss: 0.5858 | Train K-Accuracy: 96.34%\n"
     ]
    },
    {
     "name": "stderr",
     "output_type": "stream",
     "text": [
      "Epochs:   8%|▊         | 8/100 [01:27<16:27, 10.74s/it]"
     ]
    },
    {
     "name": "stdout",
     "output_type": "stream",
     "text": [
      "Epoch 8/100 | Avg Loss: 0.5901 | Train K-Accuracy: 96.39%\n"
     ]
    },
    {
     "name": "stderr",
     "output_type": "stream",
     "text": [
      "Epochs:   9%|▉         | 9/100 [01:38<16:16, 10.74s/it]"
     ]
    },
    {
     "name": "stdout",
     "output_type": "stream",
     "text": [
      "Epoch 9/100 | Avg Loss: 0.5812 | Train K-Accuracy: 96.28%\n"
     ]
    },
    {
     "name": "stderr",
     "output_type": "stream",
     "text": [
      "Epochs:  10%|█         | 10/100 [01:49<16:02, 10.70s/it]"
     ]
    },
    {
     "name": "stdout",
     "output_type": "stream",
     "text": [
      "Epoch 10/100 | Avg Loss: 0.5627 | Train K-Accuracy: 96.31%\n"
     ]
    },
    {
     "name": "stderr",
     "output_type": "stream",
     "text": [
      "Epochs:  11%|█         | 11/100 [02:00<16:10, 10.90s/it]"
     ]
    },
    {
     "name": "stdout",
     "output_type": "stream",
     "text": [
      "Epoch 11/100 | Avg Loss: 0.5678 | Train K-Accuracy: 96.38%\n"
     ]
    },
    {
     "name": "stderr",
     "output_type": "stream",
     "text": [
      "Epochs:  12%|█▏        | 12/100 [02:12<16:25, 11.20s/it]"
     ]
    },
    {
     "name": "stdout",
     "output_type": "stream",
     "text": [
      "Epoch 12/100 | Avg Loss: 0.5687 | Train K-Accuracy: 96.36%\n"
     ]
    },
    {
     "name": "stderr",
     "output_type": "stream",
     "text": [
      "Epochs:  13%|█▎        | 13/100 [02:24<16:31, 11.40s/it]"
     ]
    },
    {
     "name": "stdout",
     "output_type": "stream",
     "text": [
      "Epoch 13/100 | Avg Loss: 0.5634 | Train K-Accuracy: 96.36%\n"
     ]
    },
    {
     "name": "stderr",
     "output_type": "stream",
     "text": [
      "Epochs:  14%|█▍        | 14/100 [02:36<16:38, 11.61s/it]"
     ]
    },
    {
     "name": "stdout",
     "output_type": "stream",
     "text": [
      "Epoch 14/100 | Avg Loss: 0.5455 | Train K-Accuracy: 96.37%\n"
     ]
    },
    {
     "name": "stderr",
     "output_type": "stream",
     "text": [
      "Epochs:  15%|█▌        | 15/100 [02:48<16:33, 11.69s/it]"
     ]
    },
    {
     "name": "stdout",
     "output_type": "stream",
     "text": [
      "Epoch 15/100 | Avg Loss: 0.5368 | Train K-Accuracy: 96.37%\n"
     ]
    },
    {
     "name": "stderr",
     "output_type": "stream",
     "text": [
      "Epochs:  16%|█▌        | 16/100 [02:59<16:19, 11.66s/it]"
     ]
    },
    {
     "name": "stdout",
     "output_type": "stream",
     "text": [
      "Epoch 16/100 | Avg Loss: 0.5790 | Train K-Accuracy: 96.35%\n"
     ]
    },
    {
     "name": "stderr",
     "output_type": "stream",
     "text": [
      "Epochs:  17%|█▋        | 17/100 [03:11<16:05, 11.64s/it]"
     ]
    },
    {
     "name": "stdout",
     "output_type": "stream",
     "text": [
      "Epoch 17/100 | Avg Loss: 0.5583 | Train K-Accuracy: 96.38%\n"
     ]
    },
    {
     "name": "stderr",
     "output_type": "stream",
     "text": [
      "Epochs:  18%|█▊        | 18/100 [03:23<16:07, 11.80s/it]"
     ]
    },
    {
     "name": "stdout",
     "output_type": "stream",
     "text": [
      "Epoch 18/100 | Avg Loss: 0.5422 | Train K-Accuracy: 96.37%\n"
     ]
    },
    {
     "name": "stderr",
     "output_type": "stream",
     "text": [
      "Epochs:  19%|█▉        | 19/100 [03:35<15:52, 11.76s/it]"
     ]
    },
    {
     "name": "stdout",
     "output_type": "stream",
     "text": [
      "Epoch 19/100 | Avg Loss: 0.5345 | Train K-Accuracy: 96.36%\n"
     ]
    },
    {
     "name": "stderr",
     "output_type": "stream",
     "text": [
      "Epochs:  20%|██        | 20/100 [03:46<15:31, 11.64s/it]"
     ]
    },
    {
     "name": "stdout",
     "output_type": "stream",
     "text": [
      "Epoch 20/100 | Avg Loss: 0.5306 | Train K-Accuracy: 96.36%\n"
     ]
    },
    {
     "name": "stderr",
     "output_type": "stream",
     "text": [
      "Epochs:  21%|██        | 21/100 [03:58<15:19, 11.64s/it]"
     ]
    },
    {
     "name": "stdout",
     "output_type": "stream",
     "text": [
      "Epoch 21/100 | Avg Loss: 0.5204 | Train K-Accuracy: 96.35%\n"
     ]
    },
    {
     "name": "stderr",
     "output_type": "stream",
     "text": [
      "Epochs:  22%|██▏       | 22/100 [04:09<14:52, 11.44s/it]"
     ]
    },
    {
     "name": "stdout",
     "output_type": "stream",
     "text": [
      "Epoch 22/100 | Avg Loss: 0.5174 | Train K-Accuracy: 96.36%\n"
     ]
    },
    {
     "name": "stderr",
     "output_type": "stream",
     "text": [
      "Epochs:  23%|██▎       | 23/100 [04:20<14:32, 11.33s/it]"
     ]
    },
    {
     "name": "stdout",
     "output_type": "stream",
     "text": [
      "Epoch 23/100 | Avg Loss: 0.5087 | Train K-Accuracy: 96.36%\n"
     ]
    },
    {
     "name": "stderr",
     "output_type": "stream",
     "text": [
      "Epochs:  24%|██▍       | 24/100 [04:31<14:18, 11.30s/it]"
     ]
    },
    {
     "name": "stdout",
     "output_type": "stream",
     "text": [
      "Epoch 24/100 | Avg Loss: 0.4953 | Train K-Accuracy: 96.36%\n"
     ]
    },
    {
     "name": "stderr",
     "output_type": "stream",
     "text": [
      "Epochs:  25%|██▌       | 25/100 [04:42<14:07, 11.31s/it]"
     ]
    },
    {
     "name": "stdout",
     "output_type": "stream",
     "text": [
      "Epoch 25/100 | Avg Loss: 0.5037 | Train K-Accuracy: 96.36%\n"
     ]
    },
    {
     "name": "stderr",
     "output_type": "stream",
     "text": [
      "Epochs:  26%|██▌       | 26/100 [04:55<14:26, 11.70s/it]"
     ]
    },
    {
     "name": "stdout",
     "output_type": "stream",
     "text": [
      "Epoch 26/100 | Avg Loss: 0.5080 | Train K-Accuracy: 96.37%\n"
     ]
    },
    {
     "name": "stderr",
     "output_type": "stream",
     "text": [
      "Epochs:  27%|██▋       | 27/100 [05:08<14:51, 12.22s/it]"
     ]
    },
    {
     "name": "stdout",
     "output_type": "stream",
     "text": [
      "Epoch 27/100 | Avg Loss: 0.5057 | Train K-Accuracy: 96.38%\n"
     ]
    },
    {
     "name": "stderr",
     "output_type": "stream",
     "text": [
      "Epochs:  28%|██▊       | 28/100 [05:22<15:13, 12.69s/it]"
     ]
    },
    {
     "name": "stdout",
     "output_type": "stream",
     "text": [
      "Epoch 28/100 | Avg Loss: 0.4964 | Train K-Accuracy: 96.39%\n"
     ]
    },
    {
     "name": "stderr",
     "output_type": "stream",
     "text": [
      "Epochs:  29%|██▉       | 29/100 [05:36<15:31, 13.12s/it]"
     ]
    },
    {
     "name": "stdout",
     "output_type": "stream",
     "text": [
      "Epoch 29/100 | Avg Loss: 0.5013 | Train K-Accuracy: 96.37%\n"
     ]
    },
    {
     "name": "stderr",
     "output_type": "stream",
     "text": [
      "Epochs:  30%|███       | 30/100 [05:49<15:18, 13.12s/it]"
     ]
    },
    {
     "name": "stdout",
     "output_type": "stream",
     "text": [
      "Epoch 30/100 | Avg Loss: 0.5298 | Train K-Accuracy: 96.35%\n"
     ]
    },
    {
     "name": "stderr",
     "output_type": "stream",
     "text": [
      "Epochs:  31%|███       | 31/100 [06:03<15:09, 13.18s/it]"
     ]
    },
    {
     "name": "stdout",
     "output_type": "stream",
     "text": [
      "Epoch 31/100 | Avg Loss: 0.4974 | Train K-Accuracy: 96.40%\n"
     ]
    },
    {
     "name": "stderr",
     "output_type": "stream",
     "text": [
      "Epochs:  32%|███▏      | 32/100 [06:15<14:32, 12.84s/it]"
     ]
    },
    {
     "name": "stdout",
     "output_type": "stream",
     "text": [
      "Epoch 32/100 | Avg Loss: 0.4876 | Train K-Accuracy: 96.37%\n"
     ]
    },
    {
     "name": "stderr",
     "output_type": "stream",
     "text": [
      "Epochs:  33%|███▎      | 33/100 [06:27<14:03, 12.60s/it]"
     ]
    },
    {
     "name": "stdout",
     "output_type": "stream",
     "text": [
      "Epoch 33/100 | Avg Loss: 0.4860 | Train K-Accuracy: 96.33%\n"
     ]
    },
    {
     "name": "stderr",
     "output_type": "stream",
     "text": [
      "Epochs:  34%|███▍      | 34/100 [06:39<13:36, 12.37s/it]"
     ]
    },
    {
     "name": "stdout",
     "output_type": "stream",
     "text": [
      "Epoch 34/100 | Avg Loss: 0.5040 | Train K-Accuracy: 96.37%\n"
     ]
    },
    {
     "name": "stderr",
     "output_type": "stream",
     "text": [
      "Epochs:  35%|███▌      | 35/100 [06:50<13:09, 12.15s/it]"
     ]
    },
    {
     "name": "stdout",
     "output_type": "stream",
     "text": [
      "Epoch 35/100 | Avg Loss: 0.4850 | Train K-Accuracy: 96.37%\n"
     ]
    },
    {
     "name": "stderr",
     "output_type": "stream",
     "text": [
      "Epochs:  36%|███▌      | 36/100 [07:02<12:49, 12.03s/it]"
     ]
    },
    {
     "name": "stdout",
     "output_type": "stream",
     "text": [
      "Epoch 36/100 | Avg Loss: 0.4670 | Train K-Accuracy: 96.40%\n"
     ]
    },
    {
     "name": "stderr",
     "output_type": "stream",
     "text": [
      "Epochs:  37%|███▋      | 37/100 [07:14<12:36, 12.02s/it]"
     ]
    },
    {
     "name": "stdout",
     "output_type": "stream",
     "text": [
      "Epoch 37/100 | Avg Loss: 0.4767 | Train K-Accuracy: 96.37%\n"
     ]
    },
    {
     "name": "stderr",
     "output_type": "stream",
     "text": [
      "Epochs:  38%|███▊      | 38/100 [07:26<12:24, 12.00s/it]"
     ]
    },
    {
     "name": "stdout",
     "output_type": "stream",
     "text": [
      "Epoch 38/100 | Avg Loss: 0.4735 | Train K-Accuracy: 96.36%\n"
     ]
    },
    {
     "name": "stderr",
     "output_type": "stream",
     "text": [
      "Epochs:  39%|███▉      | 39/100 [07:38<12:18, 12.11s/it]"
     ]
    },
    {
     "name": "stdout",
     "output_type": "stream",
     "text": [
      "Epoch 39/100 | Avg Loss: 0.4708 | Train K-Accuracy: 96.38%\n"
     ]
    },
    {
     "name": "stderr",
     "output_type": "stream",
     "text": [
      "Epochs:  40%|████      | 40/100 [07:51<12:10, 12.17s/it]"
     ]
    },
    {
     "name": "stdout",
     "output_type": "stream",
     "text": [
      "Epoch 40/100 | Avg Loss: 0.4607 | Train K-Accuracy: 96.40%\n"
     ]
    },
    {
     "name": "stderr",
     "output_type": "stream",
     "text": [
      "Epochs:  41%|████      | 41/100 [08:03<12:07, 12.33s/it]"
     ]
    },
    {
     "name": "stdout",
     "output_type": "stream",
     "text": [
      "Epoch 41/100 | Avg Loss: 0.4667 | Train K-Accuracy: 96.40%\n"
     ]
    },
    {
     "name": "stderr",
     "output_type": "stream",
     "text": [
      "Epochs:  42%|████▏     | 42/100 [08:16<11:57, 12.37s/it]"
     ]
    },
    {
     "name": "stdout",
     "output_type": "stream",
     "text": [
      "Epoch 42/100 | Avg Loss: 0.4585 | Train K-Accuracy: 96.37%\n"
     ]
    },
    {
     "name": "stderr",
     "output_type": "stream",
     "text": [
      "Epochs:  43%|████▎     | 43/100 [08:28<11:51, 12.48s/it]"
     ]
    },
    {
     "name": "stdout",
     "output_type": "stream",
     "text": [
      "Epoch 43/100 | Avg Loss: 0.4630 | Train K-Accuracy: 96.41%\n"
     ]
    },
    {
     "name": "stderr",
     "output_type": "stream",
     "text": [
      "Epochs:  44%|████▍     | 44/100 [08:41<11:43, 12.56s/it]"
     ]
    },
    {
     "name": "stdout",
     "output_type": "stream",
     "text": [
      "Epoch 44/100 | Avg Loss: 0.4653 | Train K-Accuracy: 96.40%\n"
     ]
    },
    {
     "name": "stderr",
     "output_type": "stream",
     "text": [
      "Epochs:  45%|████▌     | 45/100 [08:54<11:27, 12.51s/it]"
     ]
    },
    {
     "name": "stdout",
     "output_type": "stream",
     "text": [
      "Epoch 45/100 | Avg Loss: 0.4492 | Train K-Accuracy: 96.38%\n"
     ]
    },
    {
     "name": "stderr",
     "output_type": "stream",
     "text": [
      "Epochs:  46%|████▌     | 46/100 [09:05<11:04, 12.31s/it]"
     ]
    },
    {
     "name": "stdout",
     "output_type": "stream",
     "text": [
      "Epoch 46/100 | Avg Loss: 0.4601 | Train K-Accuracy: 96.39%\n"
     ]
    },
    {
     "name": "stderr",
     "output_type": "stream",
     "text": [
      "Epochs:  47%|████▋     | 47/100 [09:16<10:30, 11.89s/it]"
     ]
    },
    {
     "name": "stdout",
     "output_type": "stream",
     "text": [
      "Epoch 47/100 | Avg Loss: 0.4649 | Train K-Accuracy: 96.41%\n"
     ]
    },
    {
     "name": "stderr",
     "output_type": "stream",
     "text": [
      "Epochs:  48%|████▊     | 48/100 [09:27<10:02, 11.58s/it]"
     ]
    },
    {
     "name": "stdout",
     "output_type": "stream",
     "text": [
      "Epoch 48/100 | Avg Loss: 0.4787 | Train K-Accuracy: 96.41%\n"
     ]
    },
    {
     "name": "stderr",
     "output_type": "stream",
     "text": [
      "Epochs:  49%|████▉     | 49/100 [09:39<09:47, 11.53s/it]"
     ]
    },
    {
     "name": "stdout",
     "output_type": "stream",
     "text": [
      "Epoch 49/100 | Avg Loss: 0.4569 | Train K-Accuracy: 96.40%\n"
     ]
    },
    {
     "name": "stderr",
     "output_type": "stream",
     "text": [
      "Epochs:  50%|█████     | 50/100 [09:50<09:35, 11.50s/it]"
     ]
    },
    {
     "name": "stdout",
     "output_type": "stream",
     "text": [
      "Epoch 50/100 | Avg Loss: 0.4564 | Train K-Accuracy: 96.39%\n"
     ]
    },
    {
     "name": "stderr",
     "output_type": "stream",
     "text": [
      "Epochs:  51%|█████     | 51/100 [10:02<09:25, 11.54s/it]"
     ]
    },
    {
     "name": "stdout",
     "output_type": "stream",
     "text": [
      "Epoch 51/100 | Avg Loss: 0.4462 | Train K-Accuracy: 96.42%\n"
     ]
    },
    {
     "name": "stderr",
     "output_type": "stream",
     "text": [
      "Epochs:  52%|█████▏    | 52/100 [10:13<09:12, 11.52s/it]"
     ]
    },
    {
     "name": "stdout",
     "output_type": "stream",
     "text": [
      "Epoch 52/100 | Avg Loss: 0.4515 | Train K-Accuracy: 96.42%\n"
     ]
    },
    {
     "name": "stderr",
     "output_type": "stream",
     "text": [
      "Epochs:  53%|█████▎    | 53/100 [10:24<08:54, 11.38s/it]"
     ]
    },
    {
     "name": "stdout",
     "output_type": "stream",
     "text": [
      "Epoch 53/100 | Avg Loss: 0.4550 | Train K-Accuracy: 96.40%\n"
     ]
    },
    {
     "name": "stderr",
     "output_type": "stream",
     "text": [
      "Epochs:  54%|█████▍    | 54/100 [10:35<08:37, 11.25s/it]"
     ]
    },
    {
     "name": "stdout",
     "output_type": "stream",
     "text": [
      "Epoch 54/100 | Avg Loss: 0.4543 | Train K-Accuracy: 96.38%\n"
     ]
    },
    {
     "name": "stderr",
     "output_type": "stream",
     "text": [
      "Epochs:  55%|█████▌    | 55/100 [10:47<08:27, 11.28s/it]"
     ]
    },
    {
     "name": "stdout",
     "output_type": "stream",
     "text": [
      "Epoch 55/100 | Avg Loss: 0.4342 | Train K-Accuracy: 96.39%\n"
     ]
    },
    {
     "name": "stderr",
     "output_type": "stream",
     "text": [
      "Epochs:  56%|█████▌    | 56/100 [10:58<08:23, 11.45s/it]"
     ]
    },
    {
     "name": "stdout",
     "output_type": "stream",
     "text": [
      "Epoch 56/100 | Avg Loss: 0.4455 | Train K-Accuracy: 96.40%\n"
     ]
    },
    {
     "name": "stderr",
     "output_type": "stream",
     "text": [
      "Epochs:  57%|█████▋    | 57/100 [11:10<08:14, 11.49s/it]"
     ]
    },
    {
     "name": "stdout",
     "output_type": "stream",
     "text": [
      "Epoch 57/100 | Avg Loss: 0.4526 | Train K-Accuracy: 96.40%\n"
     ]
    },
    {
     "name": "stderr",
     "output_type": "stream",
     "text": [
      "Epochs:  58%|█████▊    | 58/100 [11:21<08:03, 11.50s/it]"
     ]
    },
    {
     "name": "stdout",
     "output_type": "stream",
     "text": [
      "Epoch 58/100 | Avg Loss: 0.4388 | Train K-Accuracy: 96.42%\n"
     ]
    },
    {
     "name": "stderr",
     "output_type": "stream",
     "text": [
      "Epochs:  59%|█████▉    | 59/100 [11:33<07:50, 11.47s/it]"
     ]
    },
    {
     "name": "stdout",
     "output_type": "stream",
     "text": [
      "Epoch 59/100 | Avg Loss: 0.4351 | Train K-Accuracy: 96.41%\n"
     ]
    },
    {
     "name": "stderr",
     "output_type": "stream",
     "text": [
      "Epochs:  60%|██████    | 60/100 [11:44<07:38, 11.47s/it]"
     ]
    },
    {
     "name": "stdout",
     "output_type": "stream",
     "text": [
      "Epoch 60/100 | Avg Loss: 0.4436 | Train K-Accuracy: 96.40%\n"
     ]
    },
    {
     "name": "stderr",
     "output_type": "stream",
     "text": [
      "Epochs:  61%|██████    | 61/100 [11:56<07:24, 11.40s/it]"
     ]
    },
    {
     "name": "stdout",
     "output_type": "stream",
     "text": [
      "Epoch 61/100 | Avg Loss: 0.4350 | Train K-Accuracy: 96.40%\n"
     ]
    },
    {
     "name": "stderr",
     "output_type": "stream",
     "text": [
      "Epochs:  62%|██████▏   | 62/100 [12:06<07:07, 11.24s/it]"
     ]
    },
    {
     "name": "stdout",
     "output_type": "stream",
     "text": [
      "Epoch 62/100 | Avg Loss: 0.4324 | Train K-Accuracy: 96.38%\n"
     ]
    },
    {
     "name": "stderr",
     "output_type": "stream",
     "text": [
      "Epochs:  63%|██████▎   | 63/100 [12:18<06:59, 11.34s/it]"
     ]
    },
    {
     "name": "stdout",
     "output_type": "stream",
     "text": [
      "Epoch 63/100 | Avg Loss: 0.4341 | Train K-Accuracy: 96.37%\n"
     ]
    },
    {
     "name": "stderr",
     "output_type": "stream",
     "text": [
      "Epochs:  64%|██████▍   | 64/100 [12:30<06:54, 11.52s/it]"
     ]
    },
    {
     "name": "stdout",
     "output_type": "stream",
     "text": [
      "Epoch 64/100 | Avg Loss: 0.4387 | Train K-Accuracy: 96.41%\n"
     ]
    },
    {
     "name": "stderr",
     "output_type": "stream",
     "text": [
      "Epochs:  65%|██████▌   | 65/100 [12:42<06:46, 11.63s/it]"
     ]
    },
    {
     "name": "stdout",
     "output_type": "stream",
     "text": [
      "Epoch 65/100 | Avg Loss: 0.4338 | Train K-Accuracy: 96.38%\n"
     ]
    },
    {
     "name": "stderr",
     "output_type": "stream",
     "text": [
      "Epochs:  66%|██████▌   | 66/100 [12:54<06:36, 11.67s/it]"
     ]
    },
    {
     "name": "stdout",
     "output_type": "stream",
     "text": [
      "Epoch 66/100 | Avg Loss: 0.4184 | Train K-Accuracy: 96.40%\n"
     ]
    },
    {
     "name": "stderr",
     "output_type": "stream",
     "text": [
      "Epochs:  67%|██████▋   | 67/100 [13:05<06:20, 11.52s/it]"
     ]
    },
    {
     "name": "stdout",
     "output_type": "stream",
     "text": [
      "Epoch 67/100 | Avg Loss: 0.4180 | Train K-Accuracy: 96.38%\n"
     ]
    },
    {
     "name": "stderr",
     "output_type": "stream",
     "text": [
      "Epochs:  68%|██████▊   | 68/100 [13:16<06:06, 11.45s/it]"
     ]
    },
    {
     "name": "stdout",
     "output_type": "stream",
     "text": [
      "Epoch 68/100 | Avg Loss: 0.4214 | Train K-Accuracy: 96.42%\n"
     ]
    },
    {
     "name": "stderr",
     "output_type": "stream",
     "text": [
      "Epochs:  69%|██████▉   | 69/100 [13:33<06:45, 13.09s/it]"
     ]
    },
    {
     "name": "stdout",
     "output_type": "stream",
     "text": [
      "Epoch 69/100 | Avg Loss: 0.4208 | Train K-Accuracy: 96.42%\n"
     ]
    },
    {
     "name": "stderr",
     "output_type": "stream",
     "text": [
      "Epochs:  70%|███████   | 70/100 [13:49<07:03, 14.11s/it]"
     ]
    },
    {
     "name": "stdout",
     "output_type": "stream",
     "text": [
      "Epoch 70/100 | Avg Loss: 0.4122 | Train K-Accuracy: 96.38%\n"
     ]
    },
    {
     "name": "stderr",
     "output_type": "stream",
     "text": [
      "Epochs:  71%|███████   | 71/100 [14:12<08:02, 16.65s/it]"
     ]
    },
    {
     "name": "stdout",
     "output_type": "stream",
     "text": [
      "Epoch 71/100 | Avg Loss: 0.4209 | Train K-Accuracy: 96.41%\n"
     ]
    },
    {
     "name": "stderr",
     "output_type": "stream",
     "text": [
      "Epochs:  72%|███████▏  | 72/100 [14:28<07:36, 16.31s/it]"
     ]
    },
    {
     "name": "stdout",
     "output_type": "stream",
     "text": [
      "Epoch 72/100 | Avg Loss: 0.4174 | Train K-Accuracy: 96.38%\n"
     ]
    },
    {
     "name": "stderr",
     "output_type": "stream",
     "text": [
      "Epochs:  73%|███████▎  | 73/100 [14:44<07:21, 16.36s/it]"
     ]
    },
    {
     "name": "stdout",
     "output_type": "stream",
     "text": [
      "Epoch 73/100 | Avg Loss: 0.4300 | Train K-Accuracy: 96.38%\n"
     ]
    },
    {
     "name": "stderr",
     "output_type": "stream",
     "text": [
      "Epochs:  74%|███████▍  | 74/100 [15:00<07:04, 16.31s/it]"
     ]
    },
    {
     "name": "stdout",
     "output_type": "stream",
     "text": [
      "Epoch 74/100 | Avg Loss: 0.4229 | Train K-Accuracy: 96.40%\n"
     ]
    },
    {
     "name": "stderr",
     "output_type": "stream",
     "text": [
      "Epochs:  75%|███████▌  | 75/100 [15:17<06:48, 16.34s/it]"
     ]
    },
    {
     "name": "stdout",
     "output_type": "stream",
     "text": [
      "Epoch 75/100 | Avg Loss: 0.4319 | Train K-Accuracy: 96.40%\n"
     ]
    },
    {
     "name": "stderr",
     "output_type": "stream",
     "text": [
      "Epochs:  76%|███████▌  | 76/100 [15:34<06:36, 16.51s/it]"
     ]
    },
    {
     "name": "stdout",
     "output_type": "stream",
     "text": [
      "Epoch 76/100 | Avg Loss: 0.4298 | Train K-Accuracy: 96.40%\n"
     ]
    },
    {
     "name": "stderr",
     "output_type": "stream",
     "text": [
      "Epochs:  77%|███████▋  | 77/100 [15:51<06:25, 16.77s/it]"
     ]
    },
    {
     "name": "stdout",
     "output_type": "stream",
     "text": [
      "Epoch 77/100 | Avg Loss: 0.4219 | Train K-Accuracy: 96.42%\n"
     ]
    },
    {
     "name": "stderr",
     "output_type": "stream",
     "text": [
      "Epochs:  78%|███████▊  | 78/100 [16:07<06:04, 16.57s/it]"
     ]
    },
    {
     "name": "stdout",
     "output_type": "stream",
     "text": [
      "Epoch 78/100 | Avg Loss: 0.4173 | Train K-Accuracy: 96.42%\n"
     ]
    },
    {
     "name": "stderr",
     "output_type": "stream",
     "text": [
      "Epochs:  79%|███████▉  | 79/100 [16:24<05:49, 16.64s/it]"
     ]
    },
    {
     "name": "stdout",
     "output_type": "stream",
     "text": [
      "Epoch 79/100 | Avg Loss: 0.4066 | Train K-Accuracy: 96.41%\n"
     ]
    },
    {
     "name": "stderr",
     "output_type": "stream",
     "text": [
      "Epochs:  80%|████████  | 80/100 [16:41<05:33, 16.70s/it]"
     ]
    },
    {
     "name": "stdout",
     "output_type": "stream",
     "text": [
      "Epoch 80/100 | Avg Loss: 0.4113 | Train K-Accuracy: 96.40%\n"
     ]
    },
    {
     "name": "stderr",
     "output_type": "stream",
     "text": [
      "Epochs:  81%|████████  | 81/100 [16:57<05:12, 16.46s/it]"
     ]
    },
    {
     "name": "stdout",
     "output_type": "stream",
     "text": [
      "Epoch 81/100 | Avg Loss: 0.4174 | Train K-Accuracy: 96.40%\n"
     ]
    },
    {
     "name": "stderr",
     "output_type": "stream",
     "text": [
      "Epochs:  82%|████████▏ | 82/100 [17:13<04:55, 16.44s/it]"
     ]
    },
    {
     "name": "stdout",
     "output_type": "stream",
     "text": [
      "Epoch 82/100 | Avg Loss: 0.4056 | Train K-Accuracy: 96.42%\n"
     ]
    },
    {
     "name": "stderr",
     "output_type": "stream",
     "text": [
      "Epochs:  83%|████████▎ | 83/100 [17:29<04:38, 16.36s/it]"
     ]
    },
    {
     "name": "stdout",
     "output_type": "stream",
     "text": [
      "Epoch 83/100 | Avg Loss: 0.4109 | Train K-Accuracy: 96.39%\n"
     ]
    },
    {
     "name": "stderr",
     "output_type": "stream",
     "text": [
      "Epochs:  84%|████████▍ | 84/100 [17:45<04:20, 16.27s/it]"
     ]
    },
    {
     "name": "stdout",
     "output_type": "stream",
     "text": [
      "Epoch 84/100 | Avg Loss: 0.4063 | Train K-Accuracy: 96.42%\n"
     ]
    },
    {
     "name": "stderr",
     "output_type": "stream",
     "text": [
      "Epochs:  85%|████████▌ | 85/100 [18:01<04:01, 16.08s/it]"
     ]
    },
    {
     "name": "stdout",
     "output_type": "stream",
     "text": [
      "Epoch 85/100 | Avg Loss: 0.4053 | Train K-Accuracy: 96.42%\n"
     ]
    },
    {
     "name": "stderr",
     "output_type": "stream",
     "text": [
      "Epochs:  86%|████████▌ | 86/100 [18:17<03:44, 16.03s/it]"
     ]
    },
    {
     "name": "stdout",
     "output_type": "stream",
     "text": [
      "Epoch 86/100 | Avg Loss: 0.4079 | Train K-Accuracy: 96.43%\n"
     ]
    },
    {
     "name": "stderr",
     "output_type": "stream",
     "text": [
      "Epochs:  87%|████████▋ | 87/100 [18:33<03:29, 16.12s/it]"
     ]
    },
    {
     "name": "stdout",
     "output_type": "stream",
     "text": [
      "Epoch 87/100 | Avg Loss: 0.4199 | Train K-Accuracy: 96.41%\n"
     ]
    },
    {
     "name": "stderr",
     "output_type": "stream",
     "text": [
      "Epochs:  88%|████████▊ | 88/100 [18:50<03:15, 16.29s/it]"
     ]
    },
    {
     "name": "stdout",
     "output_type": "stream",
     "text": [
      "Epoch 88/100 | Avg Loss: 0.4374 | Train K-Accuracy: 96.40%\n"
     ]
    },
    {
     "name": "stderr",
     "output_type": "stream",
     "text": [
      "Epochs:  89%|████████▉ | 89/100 [19:05<02:57, 16.09s/it]"
     ]
    },
    {
     "name": "stdout",
     "output_type": "stream",
     "text": [
      "Epoch 89/100 | Avg Loss: 0.4159 | Train K-Accuracy: 96.41%\n"
     ]
    },
    {
     "name": "stderr",
     "output_type": "stream",
     "text": [
      "Epochs:  90%|█████████ | 90/100 [19:21<02:39, 15.99s/it]"
     ]
    },
    {
     "name": "stdout",
     "output_type": "stream",
     "text": [
      "Epoch 90/100 | Avg Loss: 0.4078 | Train K-Accuracy: 96.42%\n"
     ]
    },
    {
     "name": "stderr",
     "output_type": "stream",
     "text": [
      "Epochs:  91%|█████████ | 91/100 [19:36<02:21, 15.72s/it]"
     ]
    },
    {
     "name": "stdout",
     "output_type": "stream",
     "text": [
      "Epoch 91/100 | Avg Loss: 0.4118 | Train K-Accuracy: 96.42%\n"
     ]
    },
    {
     "name": "stderr",
     "output_type": "stream",
     "text": [
      "Epochs:  92%|█████████▏| 92/100 [19:52<02:06, 15.76s/it]"
     ]
    },
    {
     "name": "stdout",
     "output_type": "stream",
     "text": [
      "Epoch 92/100 | Avg Loss: 0.3917 | Train K-Accuracy: 96.41%\n"
     ]
    },
    {
     "name": "stderr",
     "output_type": "stream",
     "text": [
      "Epochs:  93%|█████████▎| 93/100 [20:09<01:51, 15.97s/it]"
     ]
    },
    {
     "name": "stdout",
     "output_type": "stream",
     "text": [
      "Epoch 93/100 | Avg Loss: 0.3908 | Train K-Accuracy: 96.42%\n"
     ]
    },
    {
     "name": "stderr",
     "output_type": "stream",
     "text": [
      "Epochs:  94%|█████████▍| 94/100 [20:24<01:35, 15.84s/it]"
     ]
    },
    {
     "name": "stdout",
     "output_type": "stream",
     "text": [
      "Epoch 94/100 | Avg Loss: 0.4070 | Train K-Accuracy: 96.41%\n"
     ]
    },
    {
     "name": "stderr",
     "output_type": "stream",
     "text": [
      "Epochs:  95%|█████████▌| 95/100 [20:40<01:18, 15.80s/it]"
     ]
    },
    {
     "name": "stdout",
     "output_type": "stream",
     "text": [
      "Epoch 95/100 | Avg Loss: 0.3900 | Train K-Accuracy: 96.42%\n"
     ]
    },
    {
     "name": "stderr",
     "output_type": "stream",
     "text": [
      "Epochs:  96%|█████████▌| 96/100 [20:55<01:02, 15.73s/it]"
     ]
    },
    {
     "name": "stdout",
     "output_type": "stream",
     "text": [
      "Epoch 96/100 | Avg Loss: 0.3946 | Train K-Accuracy: 96.41%\n"
     ]
    },
    {
     "name": "stderr",
     "output_type": "stream",
     "text": [
      "Epochs:  97%|█████████▋| 97/100 [21:11<00:46, 15.65s/it]"
     ]
    },
    {
     "name": "stdout",
     "output_type": "stream",
     "text": [
      "Epoch 97/100 | Avg Loss: 0.3950 | Train K-Accuracy: 96.40%\n"
     ]
    },
    {
     "name": "stderr",
     "output_type": "stream",
     "text": [
      "Epochs:  98%|█████████▊| 98/100 [21:27<00:31, 15.88s/it]"
     ]
    },
    {
     "name": "stdout",
     "output_type": "stream",
     "text": [
      "Epoch 98/100 | Avg Loss: 0.3994 | Train K-Accuracy: 96.41%\n"
     ]
    },
    {
     "name": "stderr",
     "output_type": "stream",
     "text": [
      "Epochs:  99%|█████████▉| 99/100 [21:43<00:15, 15.78s/it]"
     ]
    },
    {
     "name": "stdout",
     "output_type": "stream",
     "text": [
      "Epoch 99/100 | Avg Loss: 0.4076 | Train K-Accuracy: 96.40%\n"
     ]
    },
    {
     "name": "stderr",
     "output_type": "stream",
     "text": [
      "Epochs: 100%|██████████| 100/100 [21:59<00:00, 13.19s/it]"
     ]
    },
    {
     "name": "stdout",
     "output_type": "stream",
     "text": [
      "Epoch 100/100 | Avg Loss: 0.4036 | Train K-Accuracy: 96.40%\n",
      "\n",
      "Training completed.\n",
      "Final Loss: 0.4036\n",
      "Final Accuracy: 96.40%\n"
     ]
    },
    {
     "name": "stderr",
     "output_type": "stream",
     "text": [
      "\n"
     ]
    }
   ],
   "source": [
    "from tqdm import tqdm\n",
    "import numpy as np\n",
    "\n",
    "all_accuracies = []\n",
    "all_losses = []\n",
    "\n",
    "# Outer loop for epochs\n",
    "for epoch in tqdm(range(epochs), desc=\"Epochs\", position=0):\n",
    "    model.train()\n",
    "    epoch_losses = []\n",
    "    \n",
    "    # Inner loop for batches with a separate progress bar\n",
    "    batch_pbar = tqdm(train_loader, desc=f\"Epoch {epoch+1}/{epochs}\", leave=False, position=1)\n",
    "    for batch_X, batch_y in batch_pbar:\n",
    "        batch_X, batch_y = batch_X.to(device), batch_y.to(device)\n",
    "        optimizer.zero_grad()\n",
    "        outputs = model(batch_X)\n",
    "        loss = criterion(outputs, batch_y.argmax(dim=1))\n",
    "        loss.backward()\n",
    "        optimizer.step()\n",
    "        \n",
    "        # Store the loss for this batch\n",
    "        epoch_losses.append(loss.item())\n",
    "        \n",
    "        # Calculate and display running average loss\n",
    "        running_loss = np.mean(epoch_losses[-100:])  # average of last 100 batches\n",
    "        batch_pbar.set_postfix({\"Batch Loss\": f\"{loss.item():.4f}\", \"Avg Loss\": f\"{running_loss:.4f}\"})\n",
    "    \n",
    "    # Calculate average loss for the epoch\n",
    "    avg_epoch_loss = np.mean(epoch_losses)\n",
    "    all_losses.append(avg_epoch_loss)\n",
    "    \n",
    "    # Calculate accuracy\n",
    "    accuracy = calculate_topk_accuracy(model, train_loader)\n",
    "    all_accuracies.append(accuracy)\n",
    "    \n",
    "    # Update the epoch progress bar with the average loss and accuracy\n",
    "    tqdm.write(f\"Epoch {epoch+1}/{epochs} | Avg Loss: {avg_epoch_loss:.4f} | Train K-Accuracy: {accuracy * 100:.2f}%\")\n",
    "\n",
    "# Final summary\n",
    "print(\"\\nTraining completed.\")\n",
    "print(f\"Final Loss: {all_losses[-1]:.4f}\")\n",
    "print(f\"Final Accuracy: {all_accuracies[-1]*100:.2f}%\")"
   ]
  },
  {
   "cell_type": "code",
   "execution_count": 62,
   "metadata": {},
   "outputs": [
    {
     "data": {
      "image/png": "[encoded data removed]",
      "text/plain": [
       "<Figure size 1200x500 with 2 Axes>"
      ]
     },
     "metadata": {},
     "output_type": "display_data"
    }
   ],
   "source": [
    "# Create epoch list for every 5th epoch\n",
    "epoch_list = list(range(0, epochs, 5))\n",
    "\n",
    "# Ensure all_accuracies and all_losses are sampled at the same intervals\n",
    "sampled_accuracies = [all_accuracies[i] for i in range(0, len(all_accuracies), 5)]\n",
    "sampled_losses = [all_losses[i] for i in range(0, len(all_losses), 5)]\n",
    "\n",
    "fig, axes = plt.subplots(nrows=1, ncols=2, figsize=(12, 5))\n",
    "\n",
    "axes[0].plot(epoch_list, sampled_accuracies, color='#5a7da9', label='Accuracy', linewidth=2)\n",
    "axes[0].set_xlabel('Epochs')\n",
    "axes[0].set_ylabel('Accuracy')\n",
    "axes[0].set_title('Accuracy over Epochs')\n",
    "axes[0].grid(True)\n",
    "axes[0].legend()\n",
    "\n",
    "axes[1].plot(epoch_list, sampled_losses, color='#adad3b', label='Loss', linewidth=2)\n",
    "axes[1].set_xlabel('Epochs')\n",
    "axes[1].set_ylabel('Loss')\n",
    "axes[1].set_title('Loss over Epochs')\n",
    "axes[1].grid(True)\n",
    "axes[1].legend()\n",
    "\n",
    "plt.tight_layout()\n",
    "plt.show()\n"
   ]
  },
  {
   "cell_type": "code",
   "execution_count": 82,
   "metadata": {},
   "outputs": [
    {
     "name": "stdout",
     "output_type": "stream",
     "text": [
      "Model saved to my_bilstm_model.pth\n"
     ]
    }
   ],
   "source": [
    "model_path = 'my_bilstm_model.pth'\n",
    "torch.save(model.state_dict(), model_path)\n",
    "print(f'Model saved to {model_path}')"
   ]
  },
  {
   "cell_type": "code",
   "execution_count": 83,
   "metadata": {},
   "outputs": [],
   "source": [
    "features_vocab_total_words = 2749\n",
    "target_vocab_total_words = 2747\n",
    "embedding_dim = 128\n",
    "hidden_dim = 200\n",
    "saved_model = My_BiLSTM(features_vocab_total_words, target_vocab_total_words, embedding_dim, hidden_dim)"
   ]
  },
  {
   "cell_type": "code",
   "execution_count": 84,
   "metadata": {},
   "outputs": [
    {
     "data": {
      "text/plain": [
       "<All keys matched successfully>"
      ]
     },
     "execution_count": 84,
     "metadata": {},
     "output_type": "execute_result"
    }
   ],
   "source": [
    "model_path = 'my_bilstm_model.pth'\n",
    "saved_model.load_state_dict(torch.load(model_path))"
   ]
  },
  {
   "cell_type": "code",
   "execution_count": 85,
   "metadata": {},
   "outputs": [],
   "source": [
    "def text_to_numerical_sequence_test(tokenized_text):\n",
    "    tokens_list = []\n",
    "    for token in tokenized_text:\n",
    "        num_token = features_vocab[token] if token in features_vocab.get_itos() else features_vocab['<oov>']\n",
    "        tokens_list.append(num_token)\n",
    "    return tokens_list"
   ]
  },
  {
   "cell_type": "code",
   "execution_count": 90,
   "metadata": {},
   "outputs": [],
   "source": [
    "def use_model(input_list, top_k=5, additional_words=3):\n",
    "    saved_model.eval()\n",
    "    output_list = []\n",
    "    for data in input_list:\n",
    "        sentence = data[0]\n",
    "        num_words = data[1]\n",
    "        initial_predictions = []\n",
    "        \n",
    "        # Get initial predictions\n",
    "        tokenized_input_test = tokenizer(sentence)\n",
    "        tokenized_sequence_input_test = text_to_numerical_sequence_test(tokenized_input_test)\n",
    "        padded_tokenized_sequence_input_test = F.pad(torch.tensor(tokenized_sequence_input_test),\n",
    "                                                     (longest_squences_feature - len(tokenized_sequence_input_test) - 1, 0),\n",
    "                                                     value=0)\n",
    "        output_test_walking = saved_model(padded_tokenized_sequence_input_test.unsqueeze(0))\n",
    "        top_predictions = torch.topk(output_test_walking, top_k)\n",
    "        \n",
    "        for index in top_predictions.indices.squeeze():\n",
    "            predicted_word = target_vocab.lookup_token(index.item())\n",
    "            initial_predictions.append(sentence + ' ' + predicted_word)\n",
    "        \n",
    "        # Extend each prediction\n",
    "        for initial_pred in initial_predictions:\n",
    "            current_sentence = initial_pred\n",
    "            for _ in range(additional_words):\n",
    "                tokenized_input_test = tokenizer(current_sentence)\n",
    "                tokenized_sequence_input_test = text_to_numerical_sequence_test(tokenized_input_test)\n",
    "                padded_tokenized_sequence_input_test = F.pad(torch.tensor(tokenized_sequence_input_test),\n",
    "                                                             (longest_squences_feature - len(tokenized_sequence_input_test) - 1, 0),\n",
    "                                                             value=0)\n",
    "                output_test_walking = saved_model(padded_tokenized_sequence_input_test.unsqueeze(0))\n",
    "                next_word_index = torch.argmax(output_test_walking).item()\n",
    "                next_word = target_vocab.lookup_token(next_word_index)\n",
    "                current_sentence += ' ' + next_word\n",
    "                output_list.append(current_sentence)\n",
    "    \n",
    "    return output_list"
   ]
  },
  {
   "cell_type": "code",
   "execution_count": 91,
   "metadata": {},
   "outputs": [],
   "source": [
    "input_test = [['This is', 1], [\"How much\", 1]]"
   ]
  },
  {
   "cell_type": "code",
   "execution_count": 92,
   "metadata": {},
   "outputs": [
    {
     "data": {
      "text/plain": [
       "['This is a very',\n",
       " 'This is a very busy',\n",
       " 'This is a very busy day',\n",
       " 'This is it was',\n",
       " 'This is it was a',\n",
       " 'This is it was a really',\n",
       " 'This is nice of',\n",
       " 'This is nice of you',\n",
       " 'This is nice of you for',\n",
       " 'This is the first',\n",
       " 'This is the first time',\n",
       " 'This is the first time you',\n",
       " 'This is your day',\n",
       " 'This is your day going',\n",
       " 'This is your day going to',\n",
       " 'How much your day',\n",
       " 'How much your day going',\n",
       " 'How much your day going so',\n",
       " 'How much you doing',\n",
       " 'How much you doing busy',\n",
       " 'How much you doing busy a',\n",
       " 'How much a lot',\n",
       " 'How much a lot of',\n",
       " 'How much a lot of video',\n",
       " 'How much the weather',\n",
       " 'How much the weather will',\n",
       " 'How much the weather will be',\n",
       " 'How much it going',\n",
       " 'How much it going to',\n",
       " 'How much it going to try']"
      ]
     },
     "execution_count": 92,
     "metadata": {},
     "output_type": "execute_result"
    }
   ],
   "source": [
    "outputs_model = use_model(input_test, 5)\n",
    "outputs_model"
   ]
  },
  {
   "cell_type": "code",
   "execution_count": null,
   "metadata": {},
   "outputs": [],
   "source": []
  }
 ],
 "metadata": {
  "kernelspec": {
   "display_name": "Python 3",
   "language": "python",
   "name": "python3"
  },
  "language_info": {
   "codemirror_mode": {
    "name": "ipython",
    "version": 3
   },
   "file_extension": ".py",
   "mimetype": "text/x-python",
   "name": "python",
   "nbconvert_exporter": "python",
   "pygments_lexer": "ipython3",
   "version": "3.11.0"
  }
 },
 "nbformat": 4,
 "nbformat_minor": 2
}
